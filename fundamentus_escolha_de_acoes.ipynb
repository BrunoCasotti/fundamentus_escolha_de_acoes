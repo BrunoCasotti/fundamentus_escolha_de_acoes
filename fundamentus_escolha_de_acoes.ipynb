{
 "cells": [
  {
   "cell_type": "code",
   "execution_count": 0,
   "metadata": {
    "application/vnd.databricks.v1+cell": {
     "cellMetadata": {
      "byteLimit": 2048000,
      "rowLimit": 10000
     },
     "inputWidgets": {},
     "nuid": "cc207db6-0075-4976-9d2f-dcd43000ea1a",
     "showTitle": false,
     "title": ""
    }
   },
   "outputs": [
    {
     "output_type": "stream",
     "name": "stdout",
     "output_type": "stream",
     "text": [
      "Python interpreter will be restarted.\nCollecting fundamentus\n  Downloading fundamentus-0.2.0-py3-none-any.whl (13 kB)\nRequirement already satisfied: requests>=2.25.1 in /databricks/python3/lib/python3.9/site-packages (from fundamentus) (2.27.1)\nCollecting lxml>=4.6.2\n  Downloading lxml-5.1.0-cp39-cp39-manylinux_2_17_x86_64.manylinux2014_x86_64.whl (8.0 MB)\nCollecting tabulate>=0.8.7\n  Downloading tabulate-0.9.0-py3-none-any.whl (35 kB)\nRequirement already satisfied: pandas>=1.1.5 in /databricks/python3/lib/python3.9/site-packages (from fundamentus) (1.4.2)\nCollecting requests-cache>=0.5.2\n  Downloading requests_cache-1.1.1-py3-none-any.whl (60 kB)\nRequirement already satisfied: python-dateutil>=2.8.1 in /databricks/python3/lib/python3.9/site-packages (from pandas>=1.1.5->fundamentus) (2.8.2)\nRequirement already satisfied: pytz>=2020.1 in /databricks/python3/lib/python3.9/site-packages (from pandas>=1.1.5->fundamentus) (2021.3)\nRequirement already satisfied: numpy>=1.18.5 in /databricks/python3/lib/python3.9/site-packages (from pandas>=1.1.5->fundamentus) (1.21.5)\nRequirement already satisfied: six>=1.5 in /databricks/python3/lib/python3.9/site-packages (from python-dateutil>=2.8.1->pandas>=1.1.5->fundamentus) (1.16.0)\nRequirement already satisfied: idna<4,>=2.5 in /databricks/python3/lib/python3.9/site-packages (from requests>=2.25.1->fundamentus) (3.3)\nRequirement already satisfied: charset-normalizer~=2.0.0 in /databricks/python3/lib/python3.9/site-packages (from requests>=2.25.1->fundamentus) (2.0.4)\nRequirement already satisfied: urllib3<1.27,>=1.21.1 in /databricks/python3/lib/python3.9/site-packages (from requests>=2.25.1->fundamentus) (1.26.9)\nRequirement already satisfied: certifi>=2017.4.17 in /databricks/python3/lib/python3.9/site-packages (from requests>=2.25.1->fundamentus) (2021.10.8)\nCollecting cattrs>=22.2\n  Using cached cattrs-23.2.3-py3-none-any.whl (57 kB)\nCollecting url-normalize>=1.4\n  Downloading url_normalize-1.4.3-py2.py3-none-any.whl (6.8 kB)\nRequirement already satisfied: attrs>=21.2 in /databricks/python3/lib/python3.9/site-packages (from requests-cache>=0.5.2->fundamentus) (21.4.0)\nRequirement already satisfied: platformdirs>=2.5 in /usr/local/lib/python3.9/dist-packages (from requests-cache>=0.5.2->fundamentus) (2.6.2)\nCollecting exceptiongroup>=1.1.1\n  Downloading exceptiongroup-1.2.0-py3-none-any.whl (16 kB)\nCollecting attrs>=21.2\n  Downloading attrs-23.2.0-py3-none-any.whl (60 kB)\nRequirement already satisfied: typing-extensions!=4.6.3,>=4.1.0 in /databricks/python3/lib/python3.9/site-packages (from cattrs>=22.2->requests-cache>=0.5.2->fundamentus) (4.1.1)\nInstalling collected packages: exceptiongroup, attrs, url-normalize, cattrs, tabulate, requests-cache, lxml, fundamentus\n  Attempting uninstall: attrs\n    Found existing installation: attrs 21.4.0\n    Not uninstalling attrs at /databricks/python3/lib/python3.9/site-packages, outside environment /local_disk0/.ephemeral_nfs/envs/pythonEnv-30367c56-ecf4-447c-8b24-60c62dd905ef\n    Can't uninstall 'attrs'. No files were found to uninstall.\nSuccessfully installed attrs-23.2.0 cattrs-23.2.3 exceptiongroup-1.2.0 fundamentus-0.2.0 lxml-5.1.0 requests-cache-1.1.1 tabulate-0.9.0 url-normalize-1.4.3\nPython interpreter will be restarted.\n"
     ]
    }
   ],
   "source": [
    "pip install fundamentus"
   ]
  },
  {
   "cell_type": "code",
   "execution_count": 0,
   "metadata": {
    "application/vnd.databricks.v1+cell": {
     "cellMetadata": {
      "byteLimit": 2048000,
      "rowLimit": 10000
     },
     "inputWidgets": {},
     "nuid": "7cfd8f55-4185-4513-8544-9e62e1cc45e1",
     "showTitle": false,
     "title": ""
    }
   },
   "outputs": [
    {
     "output_type": "stream",
     "name": "stderr",
     "output_type": "stream",
     "text": [
      "2024-02-10 00:12:30,110 [logging.log_init] INFO: LOGLEVEL=INFO\n"
     ]
    },
    {
     "output_type": "display_data",
     "data": {
      "application/vnd.databricks.v1+bamboolib_hint": "{\"pd.DataFrames\": [], \"version\": \"0.0.1\"}",
      "text/plain": []
     },
     "metadata": {},
     "output_type": "display_data"
    }
   ],
   "source": [
    "import fundamentus\n",
    "import pandas as pd"
   ]
  },
  {
   "cell_type": "code",
   "execution_count": 0,
   "metadata": {
    "application/vnd.databricks.v1+cell": {
     "cellMetadata": {
      "byteLimit": 2048000,
      "rowLimit": 10000
     },
     "inputWidgets": {},
     "nuid": "0ba5775d-412e-4d82-94a0-76dfffe8b785",
     "showTitle": false,
     "title": ""
    }
   },
   "outputs": [],
   "source": [
    "# Criando um dataframe pandas com os dados extraidos da api do fundamentus\n",
    "df = pd.DataFrame(fundamentus.get_resultado())"
   ]
  },
  {
   "cell_type": "code",
   "execution_count": 0,
   "metadata": {
    "application/vnd.databricks.v1+cell": {
     "cellMetadata": {
      "byteLimit": 2048000,
      "rowLimit": 10000
     },
     "inputWidgets": {},
     "nuid": "99bff74f-3ad9-437b-bb62-0e8b464675fd",
     "showTitle": false,
     "title": ""
    }
   },
   "outputs": [],
   "source": [
    "# Aplicando filtros fundamentalistas\n",
    "df = df[\n",
    "    (df['pl'].between(3, 10)) &\n",
    "    (df['pvp'].between(0.5, 2)) &\n",
    "    (df['dy'].between(0.07, 0.14)) &\n",
    "    (df['roe'].between(0.15, 0.3)) &\n",
    "    (df['liq2m'] > 1000000) &\n",
    "    (df['c5y'] > 0.1)\n",
    "]"
   ]
  },
  {
   "cell_type": "code",
   "execution_count": 0,
   "metadata": {
    "application/vnd.databricks.v1+cell": {
     "cellMetadata": {
      "byteLimit": 2048000,
      "rowLimit": 10000
     },
     "inputWidgets": {},
     "nuid": "fc37e9df-0de8-4dda-977e-b8ea0682e40f",
     "showTitle": false,
     "title": ""
    }
   },
   "outputs": [],
   "source": [
    "# Removendo empresa duplicadas\n",
    "df['acao'] = df.index.get_level_values('papel')\n",
    "df['empresa_filter'] = df['acao'].str.replace(r'\\d+', '', regex=True)\n",
    "df = df.sort_values(by='acao', ascending=False)\n",
    "df = df.drop_duplicates(subset='empresa_filter')\n",
    "df = df.drop(columns=['empresa_filter','papel'])"
   ]
  },
  {
   "cell_type": "code",
   "execution_count": 0,
   "metadata": {
    "application/vnd.databricks.v1+cell": {
     "cellMetadata": {
      "byteLimit": 2048000,
      "rowLimit": 10000
     },
     "inputWidgets": {},
     "nuid": "a69a126f-9a03-4496-9a5f-477e5ac1dfbb",
     "showTitle": false,
     "title": ""
    }
   },
   "outputs": [],
   "source": [
    "# Reordenando as colunas no DataFrame\n",
    "colunas = df.columns.tolist()\n",
    "colunas.insert(0, colunas.pop(colunas.index('acao')))\n",
    "df = df[colunas]"
   ]
  },
  {
   "cell_type": "code",
   "execution_count": 0,
   "metadata": {
    "application/vnd.databricks.v1+cell": {
     "cellMetadata": {
      "byteLimit": 2048000,
      "rowLimit": 10000
     },
     "inputWidgets": {},
     "nuid": "77dee49a-1f86-4ad2-87e6-a2977d7ca25b",
     "showTitle": false,
     "title": ""
    }
   },
   "outputs": [
    {
     "output_type": "display_data",
     "data": {
      "text/html": [
       "<style scoped>\n",
       "  .table-result-container {\n",
       "    max-height: 300px;\n",
       "    overflow: auto;\n",
       "  }\n",
       "  table, th, td {\n",
       "    border: 1px solid black;\n",
       "    border-collapse: collapse;\n",
       "  }\n",
       "  th, td {\n",
       "    padding: 5px;\n",
       "  }\n",
       "  th {\n",
       "    text-align: left;\n",
       "  }\n",
       "</style><div class='table-result-container'><table class='table-result'><thead style='background-color: white'><tr><th>acao</th><th>cotacao</th><th>pl</th><th>pvp</th><th>psr</th><th>dy</th><th>pa</th><th>pcg</th><th>pebit</th><th>pacl</th><th>evebit</th><th>evebitda</th><th>mrgebit</th><th>mrgliq</th><th>roic</th><th>roe</th><th>liqc</th><th>liq2m</th><th>patrliq</th><th>divbpatr</th><th>c5y</th></tr></thead><tbody><tr><td>VALE3</td><td>65.92</td><td>6.3</td><td>1.57</td><td>1.45</td><td>0.0922</td><td>0.671</td><td>58.08</td><td>3.74</td><td>-1.71</td><td>4.37</td><td>3.65</td><td>0.3876</td><td>0.2332</td><td>0.2011</td><td>0.24989999999999998</td><td>1.08</td><td>1.72785E9</td><td>1.90172E11</td><td>0.37</td><td>0.1073</td></tr><tr><td>TASA4</td><td>14.1</td><td>7.72</td><td>1.61</td><td>0.911</td><td>0.099</td><td>0.823</td><td>3.66</td><td>5.95</td><td>8.37</td><td>7.15</td><td>6.43</td><td>0.153</td><td>0.11800000000000001</td><td>0.1567</td><td>0.2087</td><td>1.62</td><td>4671610.0</td><td>1.10807E9</td><td>0.45</td><td>0.2302</td></tr><tr><td>GGBR4</td><td>20.98</td><td>4.53</td><td>0.73</td><td>0.511</td><td>0.07629999999999999</td><td>0.482</td><td>1.81</td><td>3.56</td><td>7.0</td><td>4.08</td><td>3.15</td><td>0.1437</td><td>0.11320000000000001</td><td>0.1602</td><td>0.1607</td><td>2.93</td><td>1.89778E8</td><td>5.06009E10</td><td>0.23</td><td>0.2096</td></tr><tr><td>CMIG4</td><td>11.38</td><td>4.74</td><td>1.03</td><td>0.694</td><td>0.1134</td><td>0.446</td><td>7.82</td><td>3.04</td><td>-1.41</td><td>4.01</td><td>3.48</td><td>0.22829999999999998</td><td>0.1466</td><td>0.1673</td><td>0.2164</td><td>1.3</td><td>1.55789E8</td><td>2.44278E10</td><td>0.5</td><td>0.1186</td></tr><tr><td>BBAS3</td><td>57.57</td><td>4.91</td><td>1.01</td><td>0.0</td><td>0.0793</td><td>0.0</td><td>0.0</td><td>0.0</td><td>0.0</td><td>0.0</td><td>0.0</td><td>0.0</td><td>0.0</td><td>0.0</td><td>0.2054</td><td>0.0</td><td>4.92816E8</td><td>1.63638E11</td><td>0.0</td><td>0.2434</td></tr></tbody></table></div>"
      ]
     },
     "metadata": {
      "application/vnd.databricks.v1+output": {
       "addedWidgets": {},
       "aggData": [],
       "aggError": "",
       "aggOverflow": false,
       "aggSchema": [],
       "aggSeriesLimitReached": false,
       "aggType": "",
       "arguments": {},
       "columnCustomDisplayInfos": {},
       "data": [
        [
         "VALE3",
         65.92,
         6.3,
         1.57,
         1.45,
         0.0922,
         0.671,
         58.08,
         3.74,
         -1.71,
         4.37,
         3.65,
         0.3876,
         0.2332,
         0.2011,
         0.24989999999999998,
         1.08,
         1.72785E9,
         1.90172E11,
         0.37,
         0.1073
        ],
        [
         "TASA4",
         14.1,
         7.72,
         1.61,
         0.911,
         0.099,
         0.823,
         3.66,
         5.95,
         8.37,
         7.15,
         6.43,
         0.153,
         0.11800000000000001,
         0.1567,
         0.2087,
         1.62,
         4671610.0,
         1.10807E9,
         0.45,
         0.2302
        ],
        [
         "GGBR4",
         20.98,
         4.53,
         0.73,
         0.511,
         0.07629999999999999,
         0.482,
         1.81,
         3.56,
         7.0,
         4.08,
         3.15,
         0.1437,
         0.11320000000000001,
         0.1602,
         0.1607,
         2.93,
         1.89778E8,
         5.06009E10,
         0.23,
         0.2096
        ],
        [
         "CMIG4",
         11.38,
         4.74,
         1.03,
         0.694,
         0.1134,
         0.446,
         7.82,
         3.04,
         -1.41,
         4.01,
         3.48,
         0.22829999999999998,
         0.1466,
         0.1673,
         0.2164,
         1.3,
         1.55789E8,
         2.44278E10,
         0.5,
         0.1186
        ],
        [
         "BBAS3",
         57.57,
         4.91,
         1.01,
         0.0,
         0.0793,
         0.0,
         0.0,
         0.0,
         0.0,
         0.0,
         0.0,
         0.0,
         0.0,
         0.0,
         0.2054,
         0.0,
         4.92816E8,
         1.63638E11,
         0.0,
         0.2434
        ]
       ],
       "datasetInfos": [],
       "dbfsResultPath": null,
       "isJsonSchema": true,
       "metadata": {},
       "overflow": false,
       "plotOptions": {
        "customPlotOptions": {},
        "displayType": "table",
        "pivotAggregation": null,
        "pivotColumns": null,
        "xColumns": null,
        "yColumns": null
       },
       "removedWidgets": [],
       "schema": [
        {
         "metadata": "{}",
         "name": "acao",
         "type": "\"string\""
        },
        {
         "metadata": "{}",
         "name": "cotacao",
         "type": "\"double\""
        },
        {
         "metadata": "{}",
         "name": "pl",
         "type": "\"double\""
        },
        {
         "metadata": "{}",
         "name": "pvp",
         "type": "\"double\""
        },
        {
         "metadata": "{}",
         "name": "psr",
         "type": "\"double\""
        },
        {
         "metadata": "{}",
         "name": "dy",
         "type": "\"double\""
        },
        {
         "metadata": "{}",
         "name": "pa",
         "type": "\"double\""
        },
        {
         "metadata": "{}",
         "name": "pcg",
         "type": "\"double\""
        },
        {
         "metadata": "{}",
         "name": "pebit",
         "type": "\"double\""
        },
        {
         "metadata": "{}",
         "name": "pacl",
         "type": "\"double\""
        },
        {
         "metadata": "{}",
         "name": "evebit",
         "type": "\"double\""
        },
        {
         "metadata": "{}",
         "name": "evebitda",
         "type": "\"double\""
        },
        {
         "metadata": "{}",
         "name": "mrgebit",
         "type": "\"double\""
        },
        {
         "metadata": "{}",
         "name": "mrgliq",
         "type": "\"double\""
        },
        {
         "metadata": "{}",
         "name": "roic",
         "type": "\"double\""
        },
        {
         "metadata": "{}",
         "name": "roe",
         "type": "\"double\""
        },
        {
         "metadata": "{}",
         "name": "liqc",
         "type": "\"double\""
        },
        {
         "metadata": "{}",
         "name": "liq2m",
         "type": "\"double\""
        },
        {
         "metadata": "{}",
         "name": "patrliq",
         "type": "\"double\""
        },
        {
         "metadata": "{}",
         "name": "divbpatr",
         "type": "\"double\""
        },
        {
         "metadata": "{}",
         "name": "c5y",
         "type": "\"double\""
        }
       ],
       "type": "table"
      }
     },
     "output_type": "display_data"
    }
   ],
   "source": [
    "# Possíveis empresas para investir\n",
    "df.display()"
   ]
  }
 ],
 "metadata": {
  "application/vnd.databricks.v1+notebook": {
   "dashboards": [],
   "language": "python",
   "notebookMetadata": {
    "pythonIndentUnit": 4
   },
   "notebookName": "fundamentus_escolha_de_acoes",
   "widgets": {}
  }
 },
 "nbformat": 4,
 "nbformat_minor": 0
}
